{
 "cells": [
  {
   "cell_type": "code",
   "execution_count": 1,
   "id": "931b66d6",
   "metadata": {},
   "outputs": [],
   "source": [
    "import numpy as np"
   ]
  },
  {
   "cell_type": "code",
   "execution_count": 2,
   "id": "8c9d1a7e",
   "metadata": {},
   "outputs": [
    {
     "data": {
      "text/plain": [
       "array([1, 2, 3])"
      ]
     },
     "execution_count": 2,
     "metadata": {},
     "output_type": "execute_result"
    }
   ],
   "source": [
    "#initializarea folosind o lista\n",
    "a = np.array([1,2,3])\n",
    "a"
   ]
  },
  {
   "cell_type": "code",
   "execution_count": 3,
   "id": "f8a12702",
   "metadata": {},
   "outputs": [
    {
     "data": {
      "text/plain": [
       "numpy.ndarray"
      ]
     },
     "execution_count": 3,
     "metadata": {},
     "output_type": "execute_result"
    }
   ],
   "source": [
    "#tipul obiectului \n",
    "type(a)"
   ]
  },
  {
   "cell_type": "code",
   "execution_count": 4,
   "id": "d72c1990",
   "metadata": {},
   "outputs": [
    {
     "data": {
      "text/plain": [
       "dtype('int32')"
      ]
     },
     "execution_count": 4,
     "metadata": {},
     "output_type": "execute_result"
    }
   ],
   "source": [
    "#tipyul elementelor\n",
    "a.dtype"
   ]
  },
  {
   "cell_type": "code",
   "execution_count": 5,
   "id": "0941b14d",
   "metadata": {},
   "outputs": [
    {
     "data": {
      "text/plain": [
       "(3,)"
      ]
     },
     "execution_count": 5,
     "metadata": {},
     "output_type": "execute_result"
    }
   ],
   "source": [
    "a.shape"
   ]
  },
  {
   "cell_type": "code",
   "execution_count": 6,
   "id": "70deefcc",
   "metadata": {},
   "outputs": [
    {
     "data": {
      "text/plain": [
       "1"
      ]
     },
     "execution_count": 6,
     "metadata": {},
     "output_type": "execute_result"
    }
   ],
   "source": [
    "#accesarea elementelor\n",
    "a[0]"
   ]
  },
  {
   "cell_type": "code",
   "execution_count": 9,
   "id": "a0c2515e",
   "metadata": {},
   "outputs": [],
   "source": [
    "b=np.array([[1,2,3],[4,5,6]])\n"
   ]
  },
  {
   "cell_type": "code",
   "execution_count": 14,
   "id": "0b20a867",
   "metadata": {},
   "outputs": [
    {
     "data": {
      "text/plain": [
       "3"
      ]
     },
     "execution_count": 14,
     "metadata": {},
     "output_type": "execute_result"
    }
   ],
   "source": [
    "b[0][2]\n",
    "b[0,2]"
   ]
  },
  {
   "cell_type": "markdown",
   "id": "30ae4853",
   "metadata": {},
   "source": [
    "# functii de crearea listelor\n",
    "zero_array = np.zeros((3,2))\n",
    "zero_array"
   ]
  },
  {
   "cell_type": "code",
   "execution_count": 16,
   "id": "810cf090",
   "metadata": {},
   "outputs": [
    {
     "data": {
      "text/plain": [
       "array([[0., 0., 0., 0.],\n",
       "       [0., 0., 0., 0.],\n",
       "       [0., 0., 0., 0.]])"
      ]
     },
     "execution_count": 16,
     "metadata": {},
     "output_type": "execute_result"
    }
   ],
   "source": [
    "#crearea unei liste cu valoarea o\n",
    "zero_array = np.zeros((3,4)) \n",
    "zero_array"
   ]
  },
  {
   "cell_type": "code",
   "execution_count": 18,
   "id": "8d74e72b",
   "metadata": {},
   "outputs": [
    {
     "data": {
      "text/plain": [
       "array([[1., 1., 1.],\n",
       "       [1., 1., 1.]])"
      ]
     },
     "execution_count": 18,
     "metadata": {},
     "output_type": "execute_result"
    }
   ],
   "source": [
    "#crearea unei liste cu valoarea 1\n",
    "ones_array = np.ones((2,3))\n",
    "ones_array"
   ]
  },
  {
   "cell_type": "code",
   "execution_count": 22,
   "id": "5ca6bef0",
   "metadata": {},
   "outputs": [
    {
     "data": {
      "text/plain": [
       "array([[10, 10, 10],\n",
       "       [10, 10, 10],\n",
       "       [10, 10, 10]])"
      ]
     },
     "execution_count": 22,
     "metadata": {},
     "output_type": "execute_result"
    }
   ],
   "source": [
    "#crearea unui listeconstant\n",
    "const_array =  np.full((3,3), 10)\n",
    "const_array"
   ]
  },
  {
   "cell_type": "code",
   "execution_count": 24,
   "id": "fb094f95",
   "metadata": {},
   "outputs": [
    {
     "data": {
      "text/plain": [
       "array([[1., 0., 0., 0., 0.],\n",
       "       [0., 1., 0., 0., 0.],\n",
       "       [0., 0., 1., 0., 0.],\n",
       "       [0., 0., 0., 1., 0.],\n",
       "       [0., 0., 0., 0., 1.]])"
      ]
     },
     "execution_count": 24,
     "metadata": {},
     "output_type": "execute_result"
    }
   ],
   "source": [
    "#crearea unei liste identate de diferite dimensiuni\n",
    "identity_array = np.eye(5)\n",
    "identity_array"
   ]
  },
  {
   "cell_type": "code",
   "execution_count": 26,
   "id": "a16c54fb",
   "metadata": {},
   "outputs": [
    {
     "data": {
      "text/plain": [
       "array([[0.33737097, 0.36879343, 0.38634751, 0.31180111],\n",
       "       [0.88683997, 0.82166226, 0.68553581, 0.328559  ],\n",
       "       [0.14216162, 0.77785723, 0.07589589, 0.62728422],\n",
       "       [0.18772732, 0.29548378, 0.12029167, 0.74482616]])"
      ]
     },
     "execution_count": 26,
     "metadata": {},
     "output_type": "execute_result"
    }
   ],
   "source": [
    "#crearea unei lite cu valori sleatoare\n",
    "random_array = np.random.random((4,4))\n",
    "random_array"
   ]
  },
  {
   "cell_type": "code",
   "execution_count": 30,
   "id": "15277d54",
   "metadata": {},
   "outputs": [
    {
     "data": {
      "text/plain": [
       "array([[ 0.04407099, -0.0291441 , -0.05831687,  0.02962357,  0.00719244],\n",
       "       [-0.15726068, -0.09326185, -0.07219375, -0.04138666,  0.32207378],\n",
       "       [-0.13815339,  0.03972895,  0.14035041, -0.02525913,  0.08066654]])"
      ]
     },
     "execution_count": 30,
     "metadata": {},
     "output_type": "execute_result"
    }
   ],
   "source": [
    "#crearea unei liste cu valoriu random cu distributie Gaussiana\n",
    "mu, sigma = 0, 0.1\n",
    "gaussian_random = np.random.normal(mu, sigma, (3, 5))\n",
    "gaussian_random"
   ]
  },
  {
   "cell_type": "code",
   "execution_count": 33,
   "id": "032b4a21",
   "metadata": {},
   "outputs": [
    {
     "data": {
      "text/plain": [
       "array([ 0,  1,  2,  3,  4,  5,  6,  7,  8,  9, 10, 11, 12, 13, 14, 15, 16,\n",
       "       17, 18, 19])"
      ]
     },
     "execution_count": 33,
     "metadata": {},
     "output_type": "execute_result"
    }
   ],
   "source": [
    "#Crearea unei liste cu primele 6 numere natuirale\n",
    "first_six = np.arange(20)\n",
    "first_six"
   ]
  },
  {
   "cell_type": "code",
   "execution_count": 34,
   "id": "8fb93c24",
   "metadata": {},
   "outputs": [
    {
     "data": {
      "text/plain": [
       "array([[ 0,  1,  2,  3,  4],\n",
       "       [ 5,  6,  7,  8,  9],\n",
       "       [10, 11, 12, 13, 14]], dtype=int64)"
      ]
     },
     "execution_count": 34,
     "metadata": {},
     "output_type": "execute_result"
    }
   ],
   "source": [
    "x = np.arange(15, dtype=np.int64).reshape(3, 5)\n",
    "x"
   ]
  },
  {
   "cell_type": "code",
   "execution_count": 35,
   "id": "2a1769f5",
   "metadata": {},
   "outputs": [
    {
     "data": {
      "text/plain": [
       "array([[  0,   1,   2,   3,   4],\n",
       "       [-99,   6, -99,   8, -99],\n",
       "       [-99,  11, -99,  13, -99]], dtype=int64)"
      ]
     },
     "execution_count": 35,
     "metadata": {},
     "output_type": "execute_result"
    }
   ],
   "source": [
    "x[1:, ::2] = -99\n",
    "x"
   ]
  },
  {
   "cell_type": "code",
   "execution_count": 36,
   "id": "ff580499",
   "metadata": {},
   "outputs": [
    {
     "data": {
      "text/plain": [
       "array([[0, 0, 0, 0, 0],\n",
       "       [0, 0, 0, 0, 0],\n",
       "       [0, 0, 0, 0, 0]], dtype=int64)"
      ]
     },
     "execution_count": 36,
     "metadata": {},
     "output_type": "execute_result"
    }
   ],
   "source": [
    "x[::1] = 0\n",
    "x"
   ]
  },
  {
   "cell_type": "code",
   "execution_count": 45,
   "id": "a01d5391",
   "metadata": {},
   "outputs": [
    {
     "data": {
      "text/plain": [
       "array([[ 1,  2],\n",
       "       [ 5,  6],\n",
       "       [ 9, 10]])"
      ]
     },
     "execution_count": 45,
     "metadata": {},
     "output_type": "execute_result"
    }
   ],
   "source": [
    "# Indexarea\n",
    "#Slicing - extragerea unei submiltimi, specificarea indexolor\n",
    "array_to_slice = np.array([[1,2,3,4],[5,6,7,8],[9,10,11,12]])\n",
    "slice = array_to_slice[:, 0:2]\n",
    "slice"
   ]
  },
  {
   "cell_type": "markdown",
   "id": "8336a4b2",
   "metadata": {},
   "source": []
  },
  {
   "cell_type": "code",
   "execution_count": 42,
   "id": "cdb602dc",
   "metadata": {},
   "outputs": [
    {
     "data": {
      "text/plain": [
       "50"
      ]
     },
     "execution_count": 42,
     "metadata": {},
     "output_type": "execute_result"
    }
   ],
   "source": [
    "#modificarea unei submultimi\n",
    "array_to_slice[0][0]\n",
    "slice[0][0] = 50\n",
    "array_to_slice[0][0]"
   ]
  },
  {
   "cell_type": "code",
   "execution_count": 43,
   "id": "ae7263f5",
   "metadata": {},
   "outputs": [
    {
     "data": {
      "text/plain": [
       "50"
      ]
     },
     "execution_count": 43,
     "metadata": {},
     "output_type": "execute_result"
    }
   ],
   "source": [
    "#copierea submultimii\n",
    "slice_copy = np.copy(array_to_slice[:, 0:2])\n",
    "slice_copy[0][0] = 50\n",
    "slice_copy[0][0] \n",
    "array_to_slice[0][0]"
   ]
  },
  {
   "cell_type": "code",
   "execution_count": 46,
   "id": "592c42e6",
   "metadata": {},
   "outputs": [
    {
     "data": {
      "text/plain": [
       "1"
      ]
     },
     "execution_count": 46,
     "metadata": {},
     "output_type": "execute_result"
    }
   ],
   "source": [
    "array_to_slice[0][0]"
   ]
  },
  {
   "cell_type": "code",
   "execution_count": 47,
   "id": "c511a496",
   "metadata": {},
   "outputs": [
    {
     "data": {
      "text/plain": [
       "array([[ 9, 10, 11, 12]])"
      ]
     },
     "execution_count": 47,
     "metadata": {},
     "output_type": "execute_result"
    }
   ],
   "source": [
    "slice_1 = array_to_slice[2:3, :]\n",
    "slice_1"
   ]
  },
  {
   "cell_type": "code",
   "execution_count": 48,
   "id": "472472e1",
   "metadata": {},
   "outputs": [
    {
     "data": {
      "text/plain": [
       "array([ 9, 10, 11, 12])"
      ]
     },
     "execution_count": 48,
     "metadata": {},
     "output_type": "execute_result"
    }
   ],
   "source": [
    "slice_2 = array_to_slice[2, :]\n",
    "slice_2"
   ]
  },
  {
   "cell_type": "code",
   "execution_count": 49,
   "id": "cb4e4cc4",
   "metadata": {},
   "outputs": [
    {
     "data": {
      "text/plain": [
       "array([[ 1,  2,  3,  4,  5,  6],\n",
       "       [ 7,  8,  9, 10, 11, 12]])"
      ]
     },
     "execution_count": 49,
     "metadata": {},
     "output_type": "execute_result"
    }
   ],
   "source": [
    "#modificarea dimensiunii\n",
    "reshape_array = np.reshape(array_to_slice,(2,6))\n",
    "reshape_array"
   ]
  },
  {
   "cell_type": "code",
   "execution_count": 50,
   "id": "17ce43ee",
   "metadata": {},
   "outputs": [
    {
     "data": {
      "text/plain": [
       "array([2, 4])"
      ]
     },
     "execution_count": 50,
     "metadata": {},
     "output_type": "execute_result"
    }
   ],
   "source": [
    "#vectori de intregi\n",
    "array_to_slice[[0,0],[1,3]]"
   ]
  },
  {
   "cell_type": "code",
   "execution_count": 51,
   "id": "30089578",
   "metadata": {},
   "outputs": [
    {
     "data": {
      "text/plain": [
       "array([ 7, 12])"
      ]
     },
     "execution_count": 51,
     "metadata": {},
     "output_type": "execute_result"
    }
   ],
   "source": [
    "array_to_slice[[1,2],[2,3]]"
   ]
  },
  {
   "cell_type": "code",
   "execution_count": 53,
   "id": "21eff864",
   "metadata": {},
   "outputs": [
    {
     "data": {
      "text/plain": [
       "array([[False, False, False, False],\n",
       "       [False, False, False, False],\n",
       "       [False,  True,  True,  True]])"
      ]
     },
     "execution_count": 53,
     "metadata": {},
     "output_type": "execute_result"
    }
   ],
   "source": [
    "#Vectori folosint valori logice\n",
    "bool_idx = (array_to_slice >= 10)\n",
    "bool_idx"
   ]
  },
  {
   "cell_type": "code",
   "execution_count": 54,
   "id": "1e595f79",
   "metadata": {},
   "outputs": [
    {
     "data": {
      "text/plain": [
       "array([10, 11, 12])"
      ]
     },
     "execution_count": 54,
     "metadata": {},
     "output_type": "execute_result"
    }
   ],
   "source": [
    "array_to_slice[array_to_slice >= 10]"
   ]
  },
  {
   "cell_type": "raw",
   "id": "8def5a3a",
   "metadata": {},
   "source": []
  },
  {
   "cell_type": "code",
   "execution_count": 55,
   "id": "13458854",
   "metadata": {},
   "outputs": [
    {
     "data": {
      "text/plain": [
       "array([[6., 5.],\n",
       "       [7., 8.]])"
      ]
     },
     "execution_count": 55,
     "metadata": {},
     "output_type": "execute_result"
    }
   ],
   "source": [
    "#Functii matematice\n",
    "x = np.array([[1, 2], [3,4]], dtype=np.float64)\n",
    "y = np.array([[6, 5], [7,8]], dtype=np.float64)\n",
    "x\n",
    "y"
   ]
  },
  {
   "cell_type": "code",
   "execution_count": 56,
   "id": "53f997b8",
   "metadata": {},
   "outputs": [
    {
     "data": {
      "text/plain": [
       "array([[ 7.,  7.],\n",
       "       [10., 12.]])"
      ]
     },
     "execution_count": 56,
     "metadata": {},
     "output_type": "execute_result"
    }
   ],
   "source": [
    "#suma elemtelor\n",
    "x + y"
   ]
  },
  {
   "cell_type": "code",
   "execution_count": 57,
   "id": "c94ade3e",
   "metadata": {},
   "outputs": [
    {
     "data": {
      "text/plain": [
       "array([[ 7.,  7.],\n",
       "       [10., 12.]])"
      ]
     },
     "execution_count": 57,
     "metadata": {},
     "output_type": "execute_result"
    }
   ],
   "source": [
    "#functia\n",
    "np.add(x, y)"
   ]
  },
  {
   "cell_type": "code",
   "execution_count": 58,
   "id": "7602fa2f",
   "metadata": {},
   "outputs": [
    {
     "data": {
      "text/plain": [
       "array([[-5., -3.],\n",
       "       [-4., -4.]])"
      ]
     },
     "execution_count": 58,
     "metadata": {},
     "output_type": "execute_result"
    }
   ],
   "source": [
    "#diferenta elemtelor\n",
    "x - y"
   ]
  },
  {
   "cell_type": "code",
   "execution_count": 60,
   "id": "65362d79",
   "metadata": {},
   "outputs": [
    {
     "data": {
      "text/plain": [
       "array([[5., 3.],\n",
       "       [4., 4.]])"
      ]
     },
     "execution_count": 60,
     "metadata": {},
     "output_type": "execute_result"
    }
   ],
   "source": [
    "#functia\n",
    "np.subtract(y, x)"
   ]
  },
  {
   "cell_type": "code",
   "execution_count": 61,
   "id": "08603afe",
   "metadata": {},
   "outputs": [
    {
     "data": {
      "text/plain": [
       "array([[ 6., 10.],\n",
       "       [21., 32.]])"
      ]
     },
     "execution_count": 61,
     "metadata": {},
     "output_type": "execute_result"
    }
   ],
   "source": [
    "#produsul elemtelor\n",
    "x * y"
   ]
  },
  {
   "cell_type": "code",
   "execution_count": 62,
   "id": "5b680122",
   "metadata": {},
   "outputs": [
    {
     "data": {
      "text/plain": [
       "array([[ 6., 10.],\n",
       "       [21., 32.]])"
      ]
     },
     "execution_count": 62,
     "metadata": {},
     "output_type": "execute_result"
    }
   ],
   "source": [
    "np.multiply(x, y)"
   ]
  },
  {
   "cell_type": "code",
   "execution_count": 63,
   "id": "11b546be",
   "metadata": {},
   "outputs": [
    {
     "data": {
      "text/plain": [
       "array([[0.16666667, 0.4       ],\n",
       "       [0.42857143, 0.5       ]])"
      ]
     },
     "execution_count": 63,
     "metadata": {},
     "output_type": "execute_result"
    }
   ],
   "source": [
    "#impartirfre elemtelor\n",
    "x / y"
   ]
  },
  {
   "cell_type": "code",
   "execution_count": 64,
   "id": "da2416d6",
   "metadata": {},
   "outputs": [
    {
     "data": {
      "text/plain": [
       "array([[6.        , 2.5       ],\n",
       "       [2.33333333, 2.        ]])"
      ]
     },
     "execution_count": 64,
     "metadata": {},
     "output_type": "execute_result"
    }
   ],
   "source": [
    "np.divide(y, x)"
   ]
  },
  {
   "cell_type": "code",
   "execution_count": 65,
   "id": "4d93d454",
   "metadata": {},
   "outputs": [
    {
     "data": {
      "text/plain": [
       "array([[2.44948974, 2.23606798],\n",
       "       [2.64575131, 2.82842712]])"
      ]
     },
     "execution_count": 65,
     "metadata": {},
     "output_type": "execute_result"
    }
   ],
   "source": [
    "#radical\n",
    "np.sqrt(y)"
   ]
  },
  {
   "cell_type": "code",
   "execution_count": 67,
   "id": "743ba417",
   "metadata": {},
   "outputs": [
    {
     "data": {
      "text/plain": [
       "array([ 0,  1,  8, 27, 64], dtype=int32)"
      ]
     },
     "execution_count": 67,
     "metadata": {},
     "output_type": "execute_result"
    }
   ],
   "source": [
    "#ridicarea la petere\n",
    "my_array = np.arange(5)\n",
    "powered = np.power(my_array, 3)\n",
    "powered"
   ]
  },
  {
   "cell_type": "code",
   "execution_count": 2,
   "id": "9fb89f54",
   "metadata": {},
   "outputs": [
    {
     "data": {
      "text/plain": [
       "array([ 1,  2,  3,  4,  5,  6,  7,  8,  9, 10, 11, 12])"
      ]
     },
     "execution_count": 2,
     "metadata": {},
     "output_type": "execute_result"
    }
   ],
   "source": [
    "#Transformarea vectorului unidemensional in bidimensional\n",
    "arr = np.array([1,2,3,4,5,6,7,8,9,10,11,12])\n",
    "arr"
   ]
  },
  {
   "cell_type": "code",
   "execution_count": 8,
   "id": "1468069b",
   "metadata": {},
   "outputs": [
    {
     "data": {
      "text/plain": [
       "array([[ 1,  2,  3],\n",
       "       [ 4,  5,  6],\n",
       "       [ 7,  8,  9],\n",
       "       [10, 11, 12]])"
      ]
     },
     "execution_count": 8,
     "metadata": {},
     "output_type": "execute_result"
    }
   ],
   "source": [
    "new_arr = arr.reshape(4,3)\n",
    "new_arr"
   ]
  },
  {
   "cell_type": "code",
   "execution_count": 9,
   "id": "0d1a4363",
   "metadata": {},
   "outputs": [],
   "source": [
    "arr = np.array([[ 1,  2,  3],\n",
    "                [ 4,  5,  6],\n",
    "                [ 7,  8,  9]])\n"
   ]
  },
  {
   "cell_type": "code",
   "execution_count": 10,
   "id": "9922c7a7",
   "metadata": {},
   "outputs": [
    {
     "data": {
      "text/plain": [
       "array([1, 2, 3, 4, 5, 6, 7, 8, 9])"
      ]
     },
     "execution_count": 10,
     "metadata": {},
     "output_type": "execute_result"
    }
   ],
   "source": [
    "new_arru = arr.reshape(-1)\n",
    "new_arru"
   ]
  },
  {
   "cell_type": "code",
   "execution_count": 11,
   "id": "3b3314fc",
   "metadata": {},
   "outputs": [],
   "source": [
    "#Concatenarea vectorilor\n",
    "arr = np.array([[ 13,  14,  15],\n",
    "                [ 16,  17,  17],\n",
    "                [ 19,  20,  21]])"
   ]
  },
  {
   "cell_type": "code",
   "execution_count": 12,
   "id": "acd21940",
   "metadata": {},
   "outputs": [],
   "source": [
    "arr_concat = np.concatenate((new_arr,arr))"
   ]
  },
  {
   "cell_type": "code",
   "execution_count": null,
   "id": "6dfdd787",
   "metadata": {},
   "outputs": [],
   "source": []
  },
  {
   "cell_type": "code",
   "execution_count": 13,
   "id": "a510be19",
   "metadata": {},
   "outputs": [
    {
     "data": {
      "text/plain": [
       "array([[ 1,  2,  3],\n",
       "       [ 4,  5,  6],\n",
       "       [ 7,  8,  9],\n",
       "       [10, 11, 12],\n",
       "       [13, 14, 15],\n",
       "       [16, 17, 17],\n",
       "       [19, 20, 21]])"
      ]
     },
     "execution_count": 13,
     "metadata": {},
     "output_type": "execute_result"
    }
   ],
   "source": [
    "arr_concat"
   ]
  },
  {
   "cell_type": "code",
   "execution_count": 36,
   "id": "a8333264",
   "metadata": {},
   "outputs": [],
   "source": [
    "arr_list=np.array([-5,8,10,12,5,3])"
   ]
  },
  {
   "cell_type": "raw",
   "id": "c3357dd3",
   "metadata": {},
   "source": []
  },
  {
   "cell_type": "code",
   "execution_count": 28,
   "id": "d90293f9",
   "metadata": {},
   "outputs": [],
   "source": [
    "new_arru=np.array([1,2,3,4,5,6])"
   ]
  },
  {
   "cell_type": "code",
   "execution_count": 29,
   "id": "08514968",
   "metadata": {},
   "outputs": [
    {
     "data": {
      "text/plain": [
       "array([[ 1,  2,  3,  4,  5,  6],\n",
       "       [-5,  8, 10, 12,  5,  3]])"
      ]
     },
     "execution_count": 29,
     "metadata": {},
     "output_type": "execute_result"
    }
   ],
   "source": [
    "arr_stack = np.stack((new_arru,arr_list),axis=0)\n",
    "arr_stack"
   ]
  },
  {
   "cell_type": "code",
   "execution_count": 22,
   "id": "64c532f1",
   "metadata": {},
   "outputs": [],
   "source": [
    "arr1 = np.array([1, 2, 3])\n",
    "arr2 = np.array([4, 5, 6])\n",
    "arr = np.stack((arr1, arr2), axis=1)"
   ]
  },
  {
   "cell_type": "code",
   "execution_count": 23,
   "id": "1603d522",
   "metadata": {},
   "outputs": [
    {
     "data": {
      "text/plain": [
       "array([[1, 4],\n",
       "       [2, 5],\n",
       "       [3, 6]])"
      ]
     },
     "execution_count": 23,
     "metadata": {},
     "output_type": "execute_result"
    }
   ],
   "source": [
    "arr"
   ]
  },
  {
   "cell_type": "code",
   "execution_count": 24,
   "id": "3add1fae",
   "metadata": {},
   "outputs": [
    {
     "data": {
      "text/plain": [
       "array([[1, 2, 3],\n",
       "       [4, 5, 6]])"
      ]
     },
     "execution_count": 24,
     "metadata": {},
     "output_type": "execute_result"
    }
   ],
   "source": [
    "arr1 = np.array([1, 2, 3])\n",
    "arr2 = np.array([4, 5, 6])\n",
    "arr = np.stack((arr1, arr2), axis=0)\n",
    "arr"
   ]
  },
  {
   "cell_type": "code",
   "execution_count": 25,
   "id": "31f45b93",
   "metadata": {},
   "outputs": [],
   "source": [
    "arr = np.hstack((arr1, arr2))"
   ]
  },
  {
   "cell_type": "code",
   "execution_count": 26,
   "id": "3729eff2",
   "metadata": {},
   "outputs": [
    {
     "data": {
      "text/plain": [
       "array([1, 2, 3, 4, 5, 6])"
      ]
     },
     "execution_count": 26,
     "metadata": {},
     "output_type": "execute_result"
    }
   ],
   "source": [
    "arr"
   ]
  },
  {
   "cell_type": "code",
   "execution_count": 44,
   "id": "3844e9c1",
   "metadata": {},
   "outputs": [
    {
     "data": {
      "text/plain": [
       "array([[1, 2, 3],\n",
       "       [4, 5, 6]])"
      ]
     },
     "execution_count": 44,
     "metadata": {},
     "output_type": "execute_result"
    }
   ],
   "source": [
    "arr = np.vstack((arr1, arr2))\n",
    "arr"
   ]
  },
  {
   "cell_type": "code",
   "execution_count": 38,
   "id": "b355cfca",
   "metadata": {},
   "outputs": [],
   "source": [
    "arr=np.array([[ 1,  2,  3],\n",
    "       [ 4,  5,  6],\n",
    "       [ 7,  8,  9],\n",
    "       [10, 11, 12],\n",
    "       [13, 14, 15],\n",
    "       [16, 17, 17],\n",
    "       [19, 20, 21]])"
   ]
  },
  {
   "cell_type": "code",
   "execution_count": 32,
   "id": "c7160542",
   "metadata": {},
   "outputs": [],
   "source": [
    "new_arr=np.array_split(arr,3)"
   ]
  },
  {
   "cell_type": "code",
   "execution_count": 33,
   "id": "7565ff24",
   "metadata": {},
   "outputs": [
    {
     "data": {
      "text/plain": [
       "[array([[1, 2, 3],\n",
       "        [4, 5, 6],\n",
       "        [7, 8, 9]]),\n",
       " array([[10, 11, 12],\n",
       "        [13, 14, 15]]),\n",
       " array([[16, 17, 17],\n",
       "        [19, 20, 21]])]"
      ]
     },
     "execution_count": 33,
     "metadata": {},
     "output_type": "execute_result"
    }
   ],
   "source": [
    "new_arr"
   ]
  },
  {
   "cell_type": "code",
   "execution_count": 37,
   "id": "9265c6c1",
   "metadata": {},
   "outputs": [
    {
     "data": {
      "text/plain": [
       "array([-5,  3,  5,  8, 10, 12])"
      ]
     },
     "execution_count": 37,
     "metadata": {},
     "output_type": "execute_result"
    }
   ],
   "source": [
    "#sortarea vectorului\n",
    "np.sort(arr_list)\n"
   ]
  },
  {
   "cell_type": "code",
   "execution_count": 40,
   "id": "74d00439",
   "metadata": {},
   "outputs": [],
   "source": [
    "arr_list=np.array([3,5,8])"
   ]
  },
  {
   "cell_type": "code",
   "execution_count": 41,
   "id": "32f80729",
   "metadata": {},
   "outputs": [],
   "source": [
    "new_arr = arr_list+arr"
   ]
  },
  {
   "cell_type": "code",
   "execution_count": 42,
   "id": "c323a997",
   "metadata": {},
   "outputs": [
    {
     "data": {
      "text/plain": [
       "array([[ 4,  7, 11],\n",
       "       [ 7, 10, 14],\n",
       "       [10, 13, 17],\n",
       "       [13, 16, 20],\n",
       "       [16, 19, 23],\n",
       "       [19, 22, 25],\n",
       "       [22, 25, 29]])"
      ]
     },
     "execution_count": 42,
     "metadata": {},
     "output_type": "execute_result"
    }
   ],
   "source": [
    "new_arr"
   ]
  },
  {
   "cell_type": "code",
   "execution_count": 91,
   "id": "651356b2",
   "metadata": {},
   "outputs": [
    {
     "data": {
      "text/plain": [
       "(3, 4)"
      ]
     },
     "execution_count": 91,
     "metadata": {},
     "output_type": "execute_result"
    }
   ],
   "source": [
    "#reguli broadcasting\n",
    "a = np.array([[1,2,3,4],[5,6,7,8],[9,10,11,12]])\n",
    "b = np.array([20, 21, 45, 7])\n",
    "c =np.array([[1,2,3,4,9],[5,6,7,8,9],[9,10,11,12,3]])\n",
    "a.shape\n"
   ]
  },
  {
   "cell_type": "code",
   "execution_count": 92,
   "id": "8507949e",
   "metadata": {},
   "outputs": [
    {
     "data": {
      "text/plain": [
       "(4,)"
      ]
     },
     "execution_count": 92,
     "metadata": {},
     "output_type": "execute_result"
    }
   ],
   "source": [
    "b.shape"
   ]
  },
  {
   "cell_type": "code",
   "execution_count": 93,
   "id": "743b9f08",
   "metadata": {},
   "outputs": [
    {
     "data": {
      "text/plain": [
       "(3, 5)"
      ]
     },
     "execution_count": 93,
     "metadata": {},
     "output_type": "execute_result"
    }
   ],
   "source": [
    "c.shape"
   ]
  },
  {
   "cell_type": "code",
   "execution_count": 94,
   "id": "a527d550",
   "metadata": {},
   "outputs": [
    {
     "data": {
      "text/plain": [
       "array([[21, 23, 48, 11],\n",
       "       [25, 27, 52, 15],\n",
       "       [29, 31, 56, 19]])"
      ]
     },
     "execution_count": 94,
     "metadata": {},
     "output_type": "execute_result"
    }
   ],
   "source": [
    "arr=a+b\n",
    "arr"
   ]
  },
  {
   "cell_type": "code",
   "execution_count": 76,
   "id": "00566c14",
   "metadata": {},
   "outputs": [],
   "source": [
    "image = np.load('car_0.npy')"
   ]
  },
  {
   "cell_type": "code",
   "execution_count": 81,
   "id": "89b5e655",
   "metadata": {},
   "outputs": [],
   "source": [
    "image1 = np.load('car_1.npy')"
   ]
  },
  {
   "cell_type": "code",
   "execution_count": 82,
   "id": "94f8e8e9",
   "metadata": {},
   "outputs": [
    {
     "data": {
      "text/plain": [
       "array([[123, 123, 123, ..., 178, 178, 178],\n",
       "       [123, 123, 123, ..., 179, 179, 179],\n",
       "       [125, 125, 125, ..., 183, 183, 183],\n",
       "       ...,\n",
       "       [101,  76,  80, ..., 138, 122, 142],\n",
       "       [ 93,  70,  67, ..., 130,  99, 139],\n",
       "       [ 80,  76,  78, ..., 133, 107, 146]], dtype=uint8)"
      ]
     },
     "execution_count": 82,
     "metadata": {},
     "output_type": "execute_result"
    }
   ],
   "source": [
    "image1"
   ]
  },
  {
   "cell_type": "code",
   "execution_count": 84,
   "id": "5b23eb27",
   "metadata": {},
   "outputs": [],
   "source": [
    "img_conc = np.concatenate((image, image1))"
   ]
  },
  {
   "cell_type": "code",
   "execution_count": 85,
   "id": "d4642022",
   "metadata": {},
   "outputs": [
    {
     "data": {
      "text/plain": [
       "array([[200, 200, 200, ..., 204, 204, 204],\n",
       "       [199, 199, 199, ..., 204, 204, 204],\n",
       "       [197, 197, 197, ..., 204, 204, 204],\n",
       "       ...,\n",
       "       [101,  76,  80, ..., 138, 122, 142],\n",
       "       [ 93,  70,  67, ..., 130,  99, 139],\n",
       "       [ 80,  76,  78, ..., 133, 107, 146]], dtype=uint8)"
      ]
     },
     "execution_count": 85,
     "metadata": {},
     "output_type": "execute_result"
    }
   ],
   "source": [
    "img_conc"
   ]
  },
  {
   "cell_type": "code",
   "execution_count": 86,
   "id": "ad2db23f",
   "metadata": {},
   "outputs": [
    {
     "data": {
      "image/png": "[encoded data removed]",
      "text/plain": [
       "<Figure size 432x288 with 1 Axes>"
      ]
     },
     "metadata": {
      "needs_background": "light"
     },
     "output_type": "display_data"
    }
   ],
   "source": [
    "from skimage import io\n",
    "io.imshow(img_conc.astype(np.uint8)) # petru a putea fi afisata\n",
    "# imaginea trebuie sa aiba\n",
    "# tipul unsigned int\n",
    "\n",
    "io.show()"
   ]
  },
  {
   "cell_type": "code",
   "execution_count": null,
   "id": "1d0e7624",
   "metadata": {},
   "outputs": [],
   "source": []
  }
 ],
 "metadata": {
  "kernelspec": {
   "display_name": "Python 3 (ipykernel)",
   "language": "python",
   "name": "python3"
  },
  "language_info": {
   "codemirror_mode": {
    "name": "ipython",
    "version": 3
   },
   "file_extension": ".py",
   "mimetype": "text/x-python",
   "name": "python",
   "nbconvert_exporter": "python",
   "pygments_lexer": "ipython3",
   "version": "3.8.5"
  }
 },
 "nbformat": 4,
 "nbformat_minor": 5
}
